{
 "cells": [
  {
   "cell_type": "code",
   "execution_count": 1,
   "metadata": {},
   "outputs": [],
   "source": [
    "# Importing Dependencies\n",
    "import os\n",
    "from bs4 import BeautifulSoup as bs\n",
    "import requests\n",
    "from flask import Flask, jsonify\n",
    "from collections import Counter\n",
    "import numpy as np\n",
    "import pandas as pd"
   ]
  },
  {
   "cell_type": "code",
   "execution_count": 2,
   "metadata": {},
   "outputs": [
    {
     "name": "stdout",
     "output_type": "stream",
     "text": [
      "[[{'title': 'Shallow', 'artist': 'Lady Gaga'}], [{'title': 'Wonderwall', 'artist': 'Oasis'}], [{'title': 'Hotel California (Acoustic)', 'artist': 'Eagles'}], [{'title': 'Let It Be', 'artist': 'The Beatles'}], [{'title': 'Wish You Were Here', 'artist': 'Pink Floyd'}], [{'title': 'Take Me Home, Country Roads (ver. 2)', 'artist': 'John Denver'}], [{'title': 'Yesterday', 'artist': 'The Beatles'}], [{'title': 'Stand by me', 'artist': 'Ben E. King'}], [{'title': 'Creep', 'artist': 'Radiohead'}], [{'title': 'All Of Me', 'artist': 'John Legend'}], [{'title': 'Have You Ever Seen The Rain', 'artist': 'Creedence Clearwater Revival'}], [{'title': 'Here Comes The Sun', 'artist': 'The Beatles'}], [{'title': 'Your Song', 'artist': 'Elton John'}], [{'title': 'Stairway to Heaven', 'artist': 'Led Zeppelin'}], [{'title': 'Afterglow', 'artist': 'Ed Sheeran'}], [{'title': 'Hey Jude', 'artist': 'The Beatles'}], [{'title': 'Somewhere Over The Rainbow', 'artist': \"Israel Kamakawiwo'ole\"}], [{'title': 'Always Remember Us This Way', 'artist': 'Lady Gaga'}], [{'title': 'Zombie', 'artist': 'The Cranberries'}], [{'title': 'The House Of The Rising Sun', 'artist': 'The Animals'}], [{'title': 'Nothing Else Matters', 'artist': 'Metallica'}], [{'title': 'La Vie En Rose', 'artist': 'Edith Piaf'}], [{'title': \"What's Up\", 'artist': '4 Non Blondes'}], [{'title': 'Snowman', 'artist': 'Sia'}], [{'title': 'Something', 'artist': 'The Beatles'}], [{'title': 'Perfect', 'artist': 'Ed Sheeran'}], [{'title': 'Love of my Life', 'artist': 'Queen'}], [{'title': 'Sultans of Swing', 'artist': 'Dire Straits'}], [{'title': 'Wonderful Tonight', 'artist': 'Eric Clapton'}], [{'title': 'Losing my religion', 'artist': 'REM'}], [{'title': 'Tears In Heaven (acoustic)', 'artist': 'Eric Clapton'}], [{'title': \"Sweet Child O' Mine\", 'artist': \"Guns N' Roses\"}], [{'title': 'Bohemian Rhapsody', 'artist': 'Queen'}], [{'title': 'Father and Son', 'artist': 'Cat Stevens'}], [{'title': 'While My Guitar Gently Weeps', 'artist': 'The Beatles'}], [{'title': \"Can't Help Falling In Love\", 'artist': 'Elvis Presley'}], [{'title': \"Knockin On Heaven's Door\", 'artist': 'Bob Dylan'}], [{'title': 'Let Her Go', 'artist': 'Passenger'}], [{'title': 'Like A Stone (Ver. Acoustic)', 'artist': 'Audioslave'}], [{'title': 'Layla', 'artist': 'Eric Clapton'}], [{'title': \"Don't Look Back in Anger\", 'artist': 'Oasis'}], [{'title': 'Heather', 'artist': 'Conan Gray'}], [{'title': 'Hurt', 'artist': 'Johnny Cash'}], [{'title': 'Take On Me', 'artist': 'A-Ha'}], [{'title': 'When I Was Your Man', 'artist': 'Bruno Mars'}], [{'title': 'Fast Car', 'artist': 'Tracy Chapman'}], [{'title': 'Boulevard of Broken Dreams', 'artist': 'Green Day'}], [{'title': 'Photograph', 'artist': 'Ed Sheeran'}], [{'title': 'Blinding Lights', 'artist': 'The Weeknd'}], [{'title': 'Redemption Song', 'artist': 'Bob Marley'}], [{'title': 'Fly Me To The Moon', 'artist': 'Frank Sinatra'}], [{'title': 'Riptide', 'artist': 'Vance Joy'}], [{'title': 'Wild Horses', 'artist': 'The Rolling Stones'}], [{'title': 'Someone You Loved', 'artist': 'Lewis Capaldi'}], [{'title': 'Take It Easy', 'artist': 'Eagles'}], [{'title': 'The Man Who Sold The World', 'artist': 'Nirvana'}], [{'title': 'My Sweet Lord', 'artist': 'George Harrison'}], [{'title': 'Without You', 'artist': 'The Kid LAROI'}], [{'title': 'More Than Words', 'artist': 'Extreme'}], [{'title': \"You've Got A Friend In Me\", 'artist': 'Disney'}], [{'title': 'Blackbird', 'artist': 'The Beatles'}], [{'title': 'How Deep Is Your Love', 'artist': 'Bee Gees'}], [{'title': 'Horse With No Name', 'artist': 'America'}], [{'title': 'Thinking Out Loud', 'artist': 'Ed Sheeran'}], [{'title': 'All My Loving', 'artist': 'The Beatles'}], [{'title': 'Three Little Birds', 'artist': 'Bob Marley'}], [{'title': 'Every breath you Take', 'artist': 'The Police'}], [{'title': \"Blowin' In The Wind\", 'artist': 'Bob Dylan'}], [{'title': 'Heart of Gold', 'artist': 'Neil Young'}], [{'title': 'California Dreaming', 'artist': 'The Mamas and the Papas'}], [{'title': 'Desperado', 'artist': 'Eagles'}], [{'title': 'My Way', 'artist': 'Frank Sinatra'}], [{'title': 'Hotel California', 'artist': 'Eagles'}], [{'title': 'Tennessee Whiskey', 'artist': 'Chris Stapleton'}], [{'title': 'A Thousand Years', 'artist': 'Christina Perri'}], [{'title': \"Driver's License\", 'artist': 'Olivia Rodrigo'}], [{'title': 'The sounds of silence', 'artist': 'Simon & Garfunkel'}], [{'title': 'A Million Dreams', 'artist': 'The Greatest Showman'}], [{'title': 'Do I Wanna Know (acoustic)', 'artist': 'Arctic Monkeys'}], [{'title': 'And I Love Her', 'artist': 'The Beatles'}], [{'title': 'Watermelon Sugar', 'artist': 'Harry Styles'}], [{'title': \"Lyin' Eyes\", 'artist': 'Eagles'}], [{'title': 'Jolene', 'artist': 'Dolly Parton'}], [{'title': 'Save Your Tears', 'artist': 'The Weeknd'}], [{'title': 'Ring Of Fire', 'artist': 'Johnny Cash'}], [{'title': 'Angie', 'artist': 'The Rolling Stones'}], [{'title': 'Black', 'artist': 'Pearl Jam'}], [{'title': 'Make You Feel My Love', 'artist': 'Adele'}], [{'title': 'Lovely', 'artist': 'Billie Eilish'}], [{'title': 'The Weight', 'artist': 'The Band'}], [{'title': \"You've Got A Friend\", 'artist': 'James Taylor'}], [{'title': 'Landslide', 'artist': 'Fleetwood Mac'}], [{'title': 'Yellow', 'artist': 'Coldplay'}], [{'title': 'Me and Bobby Mcgee', 'artist': 'Kris Kristofferson'}], [{'title': 'Harvest Moon', 'artist': 'Neil Young'}], [{'title': 'In My Life', 'artist': 'The Beatles'}], [{'title': 'Free Fallin', 'artist': 'Tom Petty'}], [{'title': \"Don't think twice\", 'artist': 'Bob Dylan'}], [{'title': 'Angels Like You', 'artist': 'Miley Cyrus'}], [{'title': 'Count On Me', 'artist': 'Bruno Mars'}]]\n"
     ]
    }
   ],
   "source": [
    "url = 'https://www.e-chords.com/chords'\n",
    "\n",
    "response = requests.get(url)\n",
    "\n",
    "soup = bs(response.text, 'html.parser')\n",
    "songs = soup.find_all('div', class_='track')\n",
    "\n",
    "data = []\n",
    "for song in songs:\n",
    "\n",
    "    title = song.find('p', class_='nome-musica').text\n",
    "    artist = song.find('p', class_='nome-artista').text\n",
    "    var = {'title': title, 'artist': artist}\n",
    "    data.append([var])\n",
    "\n",
    "print(data)"
   ]
  },
  {
   "cell_type": "code",
   "execution_count": 3,
   "metadata": {},
   "outputs": [],
   "source": [
    "def urlify(the_string):\n",
    "    url_friendly = the_string.replace(\" \", \"-\")\n",
    "    url_friendly = url_friendly.replace(\".\", \"\")\n",
    "    url_friendly = url_friendly.replace(\"(\", \"\")\n",
    "    url_friendly = url_friendly.replace(\")\", \"\")\n",
    "    url_friendly = url_friendly.replace(\",\", \"\")\n",
    "    url_friendly = url_friendly.replace(\"'\", \"\")\n",
    "    url_friendly = url_friendly.lower()\n",
    "    return(url_friendly)"
   ]
  },
  {
   "cell_type": "code",
   "execution_count": 4,
   "metadata": {},
   "outputs": [
    {
     "name": "stdout",
     "output_type": "stream",
     "text": [
      "Processing Shallow\n",
      "Processing Wonderwall\n",
      "Processing Hotel California (Acoustic)\n",
      "Processing Let It Be\n",
      "Processing Wish You Were Here\n",
      "Processing Take Me Home, Country Roads (ver. 2)\n",
      "Processing Yesterday\n",
      "Processing Stand by me\n",
      "Processing Creep\n",
      "Processing All Of Me\n",
      "Processing Have You Ever Seen The Rain\n",
      "Processing Here Comes The Sun\n",
      "Processing Your Song\n",
      "Processing Stairway to Heaven\n",
      "Processing Afterglow\n",
      "Processing Hey Jude\n",
      "Processing Somewhere Over The Rainbow\n",
      "Processing Always Remember Us This Way\n",
      "Processing Zombie\n",
      "Processing The House Of The Rising Sun\n",
      "Processing Nothing Else Matters\n",
      "Processing La Vie En Rose\n",
      "Processing What's Up\n",
      "Processing Snowman\n",
      "Processing Something\n",
      "Processing Perfect\n",
      "Processing Love of my Life\n",
      "Processing Sultans of Swing\n",
      "Processing Wonderful Tonight\n",
      "Processing Losing my religion\n",
      "Processing Tears In Heaven (acoustic)\n",
      "Processing Sweet Child O' Mine\n",
      "Processing Bohemian Rhapsody\n",
      "Processing Father and Son\n",
      "Processing While My Guitar Gently Weeps\n",
      "Processing Can't Help Falling In Love\n",
      "Processing Knockin On Heaven's Door\n",
      "Processing Let Her Go\n",
      "Processing Like A Stone (Ver. Acoustic)\n",
      "Processing Layla\n",
      "Processing Don't Look Back in Anger\n",
      "Processing Heather\n",
      "Processing Hurt\n",
      "Processing Take On Me\n",
      "Processing When I Was Your Man\n",
      "Processing Fast Car\n",
      "Processing Boulevard of Broken Dreams\n",
      "Processing Photograph\n",
      "Processing Blinding Lights\n",
      "Processing Redemption Song\n",
      "Processing Fly Me To The Moon\n",
      "Processing Riptide\n",
      "Processing Wild Horses\n",
      "Processing Someone You Loved\n",
      "Processing Take It Easy\n",
      "Processing The Man Who Sold The World\n",
      "Processing My Sweet Lord\n",
      "Processing Without You\n",
      "Processing More Than Words\n",
      "Processing You've Got A Friend In Me\n",
      "Processing Blackbird\n",
      "Processing How Deep Is Your Love\n",
      "Processing Horse With No Name\n",
      "Processing Thinking Out Loud\n",
      "Processing All My Loving\n",
      "Processing Three Little Birds\n",
      "Processing Every breath you Take\n",
      "Processing Blowin' In The Wind\n",
      "Processing Heart of Gold\n",
      "Processing California Dreaming\n",
      "Processing Desperado\n",
      "Processing My Way\n",
      "Processing Hotel California\n",
      "Processing Tennessee Whiskey\n",
      "Processing A Thousand Years\n",
      "Processing Driver's License\n",
      "Error The sounds of silence\n",
      "Processing The sounds of silence\n",
      "Processing A Million Dreams\n",
      "Processing Do I Wanna Know (acoustic)\n",
      "Processing And I Love Her\n",
      "Processing Watermelon Sugar\n",
      "Processing Lyin' Eyes\n",
      "Processing Jolene\n",
      "Processing Save Your Tears\n",
      "Processing Ring Of Fire\n",
      "Processing Angie\n",
      "Processing Black\n",
      "Processing Make You Feel My Love\n",
      "Processing Lovely\n",
      "Processing The Weight\n",
      "Processing You've Got A Friend\n",
      "Processing Landslide\n",
      "Processing Yellow\n",
      "Processing Me and Bobby Mcgee\n",
      "Processing Harvest Moon\n",
      "Processing In My Life\n",
      "Processing Free Fallin\n",
      "Processing Don't think twice\n",
      "Processing Angels Like You\n",
      "Processing Count On Me\n"
     ]
    }
   ],
   "source": [
    "all_chords = []\n",
    "for song in data:\n",
    "    new_url = 'https://www.e-chords.com/chords' + '/' + urlify(song[0]['artist']) + '/' + urlify(song[0]['title'])\n",
    "\n",
    "    response = requests.get(new_url)\n",
    "    soup = bs(response.text, 'html.parser')\n",
    "\n",
    "    core = soup.find('pre', class_='core')\n",
    "    \n",
    "    try:\n",
    "        chords_html = core.find_all('u')\n",
    "        chords = []\n",
    "        for chord in chords_html:\n",
    "            chords.append(chord.text)\n",
    "\n",
    "        for i in range(0, len(chords)):\n",
    "            prog = chords[i:i+4]\n",
    "            all_chords.append(prog)\n",
    "\n",
    "    except:\n",
    "        print('Error '+ song[0]['title'])\n",
    "    print('Processing ' + song[0]['title'])"
   ]
  },
  {
   "cell_type": "code",
   "execution_count": 5,
   "metadata": {},
   "outputs": [
    {
     "data": {
      "text/html": [
       "<div>\n",
       "<style scoped>\n",
       "    .dataframe tbody tr th:only-of-type {\n",
       "        vertical-align: middle;\n",
       "    }\n",
       "\n",
       "    .dataframe tbody tr th {\n",
       "        vertical-align: top;\n",
       "    }\n",
       "\n",
       "    .dataframe thead th {\n",
       "        text-align: right;\n",
       "    }\n",
       "</style>\n",
       "<table border=\"1\" class=\"dataframe\">\n",
       "  <thead>\n",
       "    <tr style=\"text-align: right;\">\n",
       "      <th></th>\n",
       "      <th>0</th>\n",
       "      <th>1</th>\n",
       "      <th>2</th>\n",
       "      <th>3</th>\n",
       "    </tr>\n",
       "  </thead>\n",
       "  <tbody>\n",
       "    <tr>\n",
       "      <th>0</th>\n",
       "      <td>Em7</td>\n",
       "      <td>D/F#</td>\n",
       "      <td>G</td>\n",
       "      <td>C</td>\n",
       "    </tr>\n",
       "    <tr>\n",
       "      <th>1</th>\n",
       "      <td>D/F#</td>\n",
       "      <td>G</td>\n",
       "      <td>C</td>\n",
       "      <td>G</td>\n",
       "    </tr>\n",
       "    <tr>\n",
       "      <th>2</th>\n",
       "      <td>G</td>\n",
       "      <td>C</td>\n",
       "      <td>G</td>\n",
       "      <td>D</td>\n",
       "    </tr>\n",
       "    <tr>\n",
       "      <th>3</th>\n",
       "      <td>C</td>\n",
       "      <td>G</td>\n",
       "      <td>D</td>\n",
       "      <td>Em7</td>\n",
       "    </tr>\n",
       "    <tr>\n",
       "      <th>4</th>\n",
       "      <td>G</td>\n",
       "      <td>D</td>\n",
       "      <td>Em7</td>\n",
       "      <td>D/F#</td>\n",
       "    </tr>\n",
       "    <tr>\n",
       "      <th>...</th>\n",
       "      <td>...</td>\n",
       "      <td>...</td>\n",
       "      <td>...</td>\n",
       "      <td>...</td>\n",
       "    </tr>\n",
       "    <tr>\n",
       "      <th>8588</th>\n",
       "      <td>Am</td>\n",
       "      <td>Am/G</td>\n",
       "      <td>F</td>\n",
       "      <td>F</td>\n",
       "    </tr>\n",
       "    <tr>\n",
       "      <th>8589</th>\n",
       "      <td>Am/G</td>\n",
       "      <td>F</td>\n",
       "      <td>F</td>\n",
       "      <td>C</td>\n",
       "    </tr>\n",
       "    <tr>\n",
       "      <th>8590</th>\n",
       "      <td>F</td>\n",
       "      <td>F</td>\n",
       "      <td>C</td>\n",
       "      <td>None</td>\n",
       "    </tr>\n",
       "    <tr>\n",
       "      <th>8591</th>\n",
       "      <td>F</td>\n",
       "      <td>C</td>\n",
       "      <td>None</td>\n",
       "      <td>None</td>\n",
       "    </tr>\n",
       "    <tr>\n",
       "      <th>8592</th>\n",
       "      <td>C</td>\n",
       "      <td>None</td>\n",
       "      <td>None</td>\n",
       "      <td>None</td>\n",
       "    </tr>\n",
       "  </tbody>\n",
       "</table>\n",
       "<p>8593 rows × 4 columns</p>\n",
       "</div>"
      ],
      "text/plain": [
       "         0     1     2     3\n",
       "0      Em7  D/F#     G     C\n",
       "1     D/F#     G     C     G\n",
       "2        G     C     G     D\n",
       "3        C     G     D   Em7\n",
       "4        G     D   Em7  D/F#\n",
       "...    ...   ...   ...   ...\n",
       "8588    Am  Am/G     F     F\n",
       "8589  Am/G     F     F     C\n",
       "8590     F     F     C  None\n",
       "8591     F     C  None  None\n",
       "8592     C  None  None  None\n",
       "\n",
       "[8593 rows x 4 columns]"
      ]
     },
     "execution_count": 5,
     "metadata": {},
     "output_type": "execute_result"
    }
   ],
   "source": [
    "df = pd.DataFrame(all_chords)\n",
    "df"
   ]
  },
  {
   "cell_type": "code",
   "execution_count": 6,
   "metadata": {},
   "outputs": [
    {
     "data": {
      "text/plain": [
       "8593"
      ]
     },
     "execution_count": 6,
     "metadata": {},
     "output_type": "execute_result"
    }
   ],
   "source": [
    "chord_list = [i for i in all_chords if i] \n",
    "len(chord_list)"
   ]
  },
  {
   "cell_type": "code",
   "execution_count": 7,
   "metadata": {},
   "outputs": [
    {
     "data": {
      "text/plain": [
       "33790"
      ]
     },
     "execution_count": 7,
     "metadata": {},
     "output_type": "execute_result"
    }
   ],
   "source": [
    "flatten = lambda t: [item for sublist in t for item in sublist]\n",
    "flat = flatten(chord_list)\n",
    "len(flat)"
   ]
  },
  {
   "cell_type": "code",
   "execution_count": 8,
   "metadata": {},
   "outputs": [
    {
     "name": "stderr",
     "output_type": "stream",
     "text": [
      "C:\\Users\\dpatc\\anaconda3\\envs\\PythonData\\lib\\site-packages\\sklearn\\utils\\validation.py:72: DataConversionWarning: A column-vector y was passed when a 1d array was expected. Please change the shape of y to (n_samples, ), for example using ravel().\n",
      "  return f(**kwargs)\n"
     ]
    }
   ],
   "source": [
    "from sklearn.preprocessing import LabelEncoder\n",
    "enc = LabelEncoder()\n",
    "flat = np.asarray(flat).reshape(-1,1)\n",
    "\n",
    "enc.fit(flat)\n",
    "flat_enc = enc.transform(flat)\n",
    "\n",
    "enc_chords = []\n",
    "for i in range(8593):\n",
    "    enc_chords.append(flat_enc[i*4:i*4+4])\n",
    "# for i in flat_enc:\n",
    "#     temp_arr = []\n",
    "#     for j in range(i,i+4):\n",
    "#         temp_arr.push(flat_enc[j])\n",
    "#     enc_chords.push(temp_arr)\n"
   ]
  },
  {
   "cell_type": "code",
   "execution_count": 9,
   "metadata": {},
   "outputs": [
    {
     "data": {
      "text/plain": [
       "188"
      ]
     },
     "execution_count": 9,
     "metadata": {},
     "output_type": "execute_result"
    }
   ],
   "source": [
    "max1 = 0\n",
    "for row in enc_chords:\n",
    "    for i in row:\n",
    "        if i > max1:\n",
    "            max1 = i\n",
    "            \n",
    "max1"
   ]
  },
  {
   "cell_type": "code",
   "execution_count": 10,
   "metadata": {},
   "outputs": [],
   "source": [
    "# print(enc_chords)\n",
    "# for i in enc_chords:\n",
    "#     print(i)\n",
    "decoder = lambda t: [enc.inverse_transform([item]) for sublist in t for item in sublist]\n",
    "decoded = decoder(enc_chords)"
   ]
  },
  {
   "cell_type": "code",
   "execution_count": 11,
   "metadata": {},
   "outputs": [
    {
     "data": {
      "text/plain": [
       "8593"
      ]
     },
     "execution_count": 11,
     "metadata": {},
     "output_type": "execute_result"
    }
   ],
   "source": [
    "len(enc_chords)"
   ]
  },
  {
   "cell_type": "code",
   "execution_count": 12,
   "metadata": {},
   "outputs": [
    {
     "data": {
      "text/plain": [
       "8593"
      ]
     },
     "execution_count": 12,
     "metadata": {},
     "output_type": "execute_result"
    }
   ],
   "source": [
    "enc_chords = [i for i in enc_chords if i.any] \n",
    "len(enc_chords)"
   ]
  },
  {
   "cell_type": "code",
   "execution_count": 13,
   "metadata": {
    "scrolled": false
   },
   "outputs": [
    {
     "name": "stdout",
     "output_type": "stream",
     "text": [
      "2149\n"
     ]
    }
   ],
   "source": [
    "from sklearn.model_selection import train_test_split\n",
    "\n",
    "X = []\n",
    "y = []\n",
    "i=0\n",
    "for whatever in enc_chords:\n",
    "    if len(whatever) == 0:\n",
    "        i = i + 1\n",
    "    X.append(whatever[0:3])\n",
    "    y.append(whatever[3:4])\n",
    "    \n",
    "# y = y.reshape(-1,1)\n",
    "X_train, X_test, y_train, y_test = train_test_split(X, y, random_state=42)\n",
    "print(len(X_test))\n",
    "X_train = [i for i in X_train if len(i) > 2]\n",
    "X_test = [i for i in X_test if len(i) > 2] \n",
    "y_train = [i for i in y_train if len(i) > 0]\n",
    "y_test = [i for i in y_test if len(i) > 0]\n",
    "# X_train"
   ]
  },
  {
   "cell_type": "code",
   "execution_count": 14,
   "metadata": {},
   "outputs": [],
   "source": [
    "from sklearn.model_selection import train_test_split\n",
    "from tensorflow.keras.models import Sequential\n",
    "from tensorflow.keras.layers import Dense\n",
    "\n",
    "model = Sequential()\n",
    "model.add(Dense(units=150, activation='sigmoid', input_dim=3))\n",
    "model.add(Dense(units=200, activation='sigmoid'))\n",
    "model.add(Dense(units=189, activation='softmax'))"
   ]
  },
  {
   "cell_type": "code",
   "execution_count": 15,
   "metadata": {},
   "outputs": [
    {
     "name": "stdout",
     "output_type": "stream",
     "text": [
      "Model: \"sequential\"\n",
      "_________________________________________________________________\n",
      "Layer (type)                 Output Shape              Param #   \n",
      "=================================================================\n",
      "dense (Dense)                (None, 150)               600       \n",
      "_________________________________________________________________\n",
      "dense_1 (Dense)              (None, 200)               30200     \n",
      "_________________________________________________________________\n",
      "dense_2 (Dense)              (None, 189)               37989     \n",
      "=================================================================\n",
      "Total params: 68,789\n",
      "Trainable params: 68,789\n",
      "Non-trainable params: 0\n",
      "_________________________________________________________________\n"
     ]
    }
   ],
   "source": [
    "model.summary()"
   ]
  },
  {
   "cell_type": "code",
   "execution_count": 16,
   "metadata": {},
   "outputs": [],
   "source": [
    "import tensorflow as tf\n",
    "\n",
    "y_train = tf.keras.utils.to_categorical(y_train)"
   ]
  },
  {
   "cell_type": "code",
   "execution_count": 17,
   "metadata": {},
   "outputs": [],
   "source": [
    "model.compile(optimizer='adam', loss='categorical_crossentropy', metrics=['accuracy']) "
   ]
  },
  {
   "cell_type": "code",
   "execution_count": 19,
   "metadata": {},
   "outputs": [
    {
     "name": "stdout",
     "output_type": "stream",
     "text": [
      "(6340, 189)\n"
     ]
    }
   ],
   "source": [
    "\n",
    "\n",
    "X_train_tensor = tf.convert_to_tensor(X_train, dtype=tf.int64) \n",
    "y_train_tensor = tf.convert_to_tensor(y_train, dtype=tf.int64) \n",
    "X_test_tensor = tf.convert_to_tensor(X_test, dtype=tf.int64) \n",
    "y_test_tensor = tf.convert_to_tensor(y_test, dtype=tf.int64) \n",
    "\n",
    "print(y_train.shape)"
   ]
  },
  {
   "cell_type": "code",
   "execution_count": 20,
   "metadata": {},
   "outputs": [
    {
     "name": "stdout",
     "output_type": "stream",
     "text": [
      "Epoch 1/175\n",
      "199/199 - 0s - loss: 3.3859 - accuracy: 0.2257\n",
      "Epoch 2/175\n",
      "199/199 - 0s - loss: 3.1218 - accuracy: 0.2797\n",
      "Epoch 3/175\n",
      "199/199 - 0s - loss: 3.0257 - accuracy: 0.2998\n",
      "Epoch 4/175\n",
      "199/199 - 0s - loss: 2.9456 - accuracy: 0.3062\n",
      "Epoch 5/175\n",
      "199/199 - 0s - loss: 2.8805 - accuracy: 0.3181\n",
      "Epoch 6/175\n",
      "199/199 - 0s - loss: 2.8337 - accuracy: 0.3121\n",
      "Epoch 7/175\n",
      "199/199 - 0s - loss: 2.7886 - accuracy: 0.3156\n",
      "Epoch 8/175\n",
      "199/199 - 0s - loss: 2.7495 - accuracy: 0.3235\n",
      "Epoch 9/175\n",
      "199/199 - 0s - loss: 2.7109 - accuracy: 0.3284\n",
      "Epoch 10/175\n",
      "199/199 - 0s - loss: 2.6799 - accuracy: 0.3319\n",
      "Epoch 11/175\n",
      "199/199 - 0s - loss: 2.6509 - accuracy: 0.3358\n",
      "Epoch 12/175\n",
      "199/199 - 0s - loss: 2.6137 - accuracy: 0.3413\n",
      "Epoch 13/175\n",
      "199/199 - 0s - loss: 2.5910 - accuracy: 0.3412\n",
      "Epoch 14/175\n",
      "199/199 - 0s - loss: 2.5668 - accuracy: 0.3461\n",
      "Epoch 15/175\n",
      "199/199 - 0s - loss: 2.5429 - accuracy: 0.3470\n",
      "Epoch 16/175\n",
      "199/199 - 0s - loss: 2.5231 - accuracy: 0.3500\n",
      "Epoch 17/175\n",
      "199/199 - 0s - loss: 2.4941 - accuracy: 0.3527\n",
      "Epoch 18/175\n",
      "199/199 - 0s - loss: 2.4749 - accuracy: 0.3560\n",
      "Epoch 19/175\n",
      "199/199 - 0s - loss: 2.4527 - accuracy: 0.3580\n",
      "Epoch 20/175\n",
      "199/199 - 0s - loss: 2.4363 - accuracy: 0.3621\n",
      "Epoch 21/175\n",
      "199/199 - 0s - loss: 2.4203 - accuracy: 0.3603\n",
      "Epoch 22/175\n",
      "199/199 - 0s - loss: 2.3924 - accuracy: 0.3727\n",
      "Epoch 23/175\n",
      "199/199 - 0s - loss: 2.3846 - accuracy: 0.3677\n",
      "Epoch 24/175\n",
      "199/199 - 0s - loss: 2.3645 - accuracy: 0.3672\n",
      "Epoch 25/175\n",
      "199/199 - 0s - loss: 2.3516 - accuracy: 0.3697\n",
      "Epoch 26/175\n",
      "199/199 - 0s - loss: 2.3290 - accuracy: 0.3774\n",
      "Epoch 27/175\n",
      "199/199 - 0s - loss: 2.3186 - accuracy: 0.3760\n",
      "Epoch 28/175\n",
      "199/199 - 0s - loss: 2.3057 - accuracy: 0.3768\n",
      "Epoch 29/175\n",
      "199/199 - 0s - loss: 2.2881 - accuracy: 0.3789\n",
      "Epoch 30/175\n",
      "199/199 - 0s - loss: 2.2689 - accuracy: 0.3831\n",
      "Epoch 31/175\n",
      "199/199 - 0s - loss: 2.2587 - accuracy: 0.3852\n",
      "Epoch 32/175\n",
      "199/199 - 0s - loss: 2.2465 - accuracy: 0.3852\n",
      "Epoch 33/175\n",
      "199/199 - 0s - loss: 2.2303 - accuracy: 0.3877\n",
      "Epoch 34/175\n",
      "199/199 - 0s - loss: 2.2184 - accuracy: 0.3883\n",
      "Epoch 35/175\n",
      "199/199 - 0s - loss: 2.2075 - accuracy: 0.3842\n",
      "Epoch 36/175\n",
      "199/199 - 0s - loss: 2.1910 - accuracy: 0.3972\n",
      "Epoch 37/175\n",
      "199/199 - 0s - loss: 2.1779 - accuracy: 0.3957\n",
      "Epoch 38/175\n",
      "199/199 - 0s - loss: 2.1746 - accuracy: 0.3991\n",
      "Epoch 39/175\n",
      "199/199 - 0s - loss: 2.1518 - accuracy: 0.4065\n",
      "Epoch 40/175\n",
      "199/199 - 0s - loss: 2.1405 - accuracy: 0.4019\n",
      "Epoch 41/175\n",
      "199/199 - 0s - loss: 2.1286 - accuracy: 0.4027\n",
      "Epoch 42/175\n",
      "199/199 - 0s - loss: 2.1161 - accuracy: 0.4087\n",
      "Epoch 43/175\n",
      "199/199 - 0s - loss: 2.1063 - accuracy: 0.4112\n",
      "Epoch 44/175\n",
      "199/199 - 0s - loss: 2.0991 - accuracy: 0.4049\n",
      "Epoch 45/175\n",
      "199/199 - 0s - loss: 2.0809 - accuracy: 0.4137\n",
      "Epoch 46/175\n",
      "199/199 - 0s - loss: 2.0726 - accuracy: 0.4128\n",
      "Epoch 47/175\n",
      "199/199 - 0s - loss: 2.0599 - accuracy: 0.4197\n",
      "Epoch 48/175\n",
      "199/199 - 0s - loss: 2.0554 - accuracy: 0.4155\n",
      "Epoch 49/175\n",
      "199/199 - 0s - loss: 2.0406 - accuracy: 0.4189\n",
      "Epoch 50/175\n",
      "199/199 - 0s - loss: 2.0294 - accuracy: 0.4221\n",
      "Epoch 51/175\n",
      "199/199 - 0s - loss: 2.0200 - accuracy: 0.4194\n",
      "Epoch 52/175\n",
      "199/199 - 0s - loss: 2.0077 - accuracy: 0.4248\n",
      "Epoch 53/175\n",
      "199/199 - 0s - loss: 1.9971 - accuracy: 0.4256\n",
      "Epoch 54/175\n",
      "199/199 - 0s - loss: 1.9865 - accuracy: 0.4331\n",
      "Epoch 55/175\n",
      "199/199 - 0s - loss: 1.9799 - accuracy: 0.4298\n",
      "Epoch 56/175\n",
      "199/199 - 0s - loss: 1.9694 - accuracy: 0.4383\n",
      "Epoch 57/175\n",
      "199/199 - 0s - loss: 1.9580 - accuracy: 0.4355\n",
      "Epoch 58/175\n",
      "199/199 - 0s - loss: 1.9492 - accuracy: 0.4401\n",
      "Epoch 59/175\n",
      "199/199 - 0s - loss: 1.9337 - accuracy: 0.4423\n",
      "Epoch 60/175\n",
      "199/199 - 0s - loss: 1.9306 - accuracy: 0.4405\n",
      "Epoch 61/175\n",
      "199/199 - 0s - loss: 1.9218 - accuracy: 0.4438\n",
      "Epoch 62/175\n",
      "199/199 - 0s - loss: 1.9086 - accuracy: 0.4481\n",
      "Epoch 63/175\n",
      "199/199 - 0s - loss: 1.9032 - accuracy: 0.4450\n",
      "Epoch 64/175\n",
      "199/199 - 0s - loss: 1.8903 - accuracy: 0.4453\n",
      "Epoch 65/175\n",
      "199/199 - 0s - loss: 1.8812 - accuracy: 0.4536\n",
      "Epoch 66/175\n",
      "199/199 - 0s - loss: 1.8690 - accuracy: 0.4557\n",
      "Epoch 67/175\n",
      "199/199 - 0s - loss: 1.8681 - accuracy: 0.4547\n",
      "Epoch 68/175\n",
      "199/199 - 0s - loss: 1.8531 - accuracy: 0.4502\n",
      "Epoch 69/175\n",
      "199/199 - 0s - loss: 1.8467 - accuracy: 0.4590\n",
      "Epoch 70/175\n",
      "199/199 - 0s - loss: 1.8395 - accuracy: 0.4560\n",
      "Epoch 71/175\n",
      "199/199 - 0s - loss: 1.8325 - accuracy: 0.4614\n",
      "Epoch 72/175\n",
      "199/199 - 0s - loss: 1.8209 - accuracy: 0.4655\n",
      "Epoch 73/175\n",
      "199/199 - 0s - loss: 1.8169 - accuracy: 0.4590\n",
      "Epoch 74/175\n",
      "199/199 - 0s - loss: 1.8097 - accuracy: 0.4593\n",
      "Epoch 75/175\n",
      "199/199 - 0s - loss: 1.7969 - accuracy: 0.4648\n",
      "Epoch 76/175\n",
      "199/199 - 0s - loss: 1.7893 - accuracy: 0.4658\n",
      "Epoch 77/175\n",
      "199/199 - 0s - loss: 1.7837 - accuracy: 0.4675\n",
      "Epoch 78/175\n",
      "199/199 - 0s - loss: 1.7763 - accuracy: 0.4667\n",
      "Epoch 79/175\n",
      "199/199 - 0s - loss: 1.7687 - accuracy: 0.4688\n",
      "Epoch 80/175\n",
      "199/199 - 0s - loss: 1.7628 - accuracy: 0.4776\n",
      "Epoch 81/175\n",
      "199/199 - 0s - loss: 1.7505 - accuracy: 0.4767\n",
      "Epoch 82/175\n",
      "199/199 - 0s - loss: 1.7355 - accuracy: 0.4823\n",
      "Epoch 83/175\n",
      "199/199 - 0s - loss: 1.7368 - accuracy: 0.4815\n",
      "Epoch 84/175\n",
      "199/199 - 0s - loss: 1.7252 - accuracy: 0.4825\n",
      "Epoch 85/175\n",
      "199/199 - 0s - loss: 1.7179 - accuracy: 0.4774\n",
      "Epoch 86/175\n",
      "199/199 - 0s - loss: 1.7161 - accuracy: 0.4820\n",
      "Epoch 87/175\n",
      "199/199 - 0s - loss: 1.7057 - accuracy: 0.4849\n",
      "Epoch 88/175\n",
      "199/199 - 0s - loss: 1.7065 - accuracy: 0.4793\n",
      "Epoch 89/175\n",
      "199/199 - 0s - loss: 1.6891 - accuracy: 0.4882\n",
      "Epoch 90/175\n",
      "199/199 - 0s - loss: 1.6816 - accuracy: 0.4945\n",
      "Epoch 91/175\n",
      "199/199 - 0s - loss: 1.6833 - accuracy: 0.4875\n",
      "Epoch 92/175\n",
      "199/199 - 0s - loss: 1.6706 - accuracy: 0.4973\n",
      "Epoch 93/175\n",
      "199/199 - 0s - loss: 1.6660 - accuracy: 0.4888\n",
      "Epoch 94/175\n",
      "199/199 - 0s - loss: 1.6572 - accuracy: 0.4940\n",
      "Epoch 95/175\n",
      "199/199 - 0s - loss: 1.6523 - accuracy: 0.4932\n",
      "Epoch 96/175\n",
      "199/199 - 0s - loss: 1.6429 - accuracy: 0.4942\n",
      "Epoch 97/175\n",
      "199/199 - 0s - loss: 1.6433 - accuracy: 0.4965\n",
      "Epoch 98/175\n",
      "199/199 - 0s - loss: 1.6343 - accuracy: 0.4954\n",
      "Epoch 99/175\n",
      "199/199 - 0s - loss: 1.6225 - accuracy: 0.5035\n",
      "Epoch 100/175\n",
      "199/199 - 0s - loss: 1.6256 - accuracy: 0.4987\n",
      "Epoch 101/175\n",
      "199/199 - 0s - loss: 1.6168 - accuracy: 0.5093\n",
      "Epoch 102/175\n",
      "199/199 - 0s - loss: 1.6102 - accuracy: 0.5095\n",
      "Epoch 103/175\n",
      "199/199 - 0s - loss: 1.5999 - accuracy: 0.5082\n",
      "Epoch 104/175\n",
      "199/199 - 0s - loss: 1.5953 - accuracy: 0.5145\n",
      "Epoch 105/175\n",
      "199/199 - 0s - loss: 1.5950 - accuracy: 0.5065\n",
      "Epoch 106/175\n",
      "199/199 - 0s - loss: 1.5859 - accuracy: 0.5101\n",
      "Epoch 107/175\n",
      "199/199 - 0s - loss: 1.5761 - accuracy: 0.5106\n",
      "Epoch 108/175\n",
      "199/199 - 0s - loss: 1.5781 - accuracy: 0.5104\n",
      "Epoch 109/175\n",
      "199/199 - 0s - loss: 1.5686 - accuracy: 0.5150\n",
      "Epoch 110/175\n",
      "199/199 - 0s - loss: 1.5642 - accuracy: 0.5144\n",
      "Epoch 111/175\n",
      "199/199 - 0s - loss: 1.5512 - accuracy: 0.5199\n",
      "Epoch 112/175\n",
      "199/199 - 0s - loss: 1.5520 - accuracy: 0.5169\n",
      "Epoch 113/175\n",
      "199/199 - 0s - loss: 1.5482 - accuracy: 0.5164\n",
      "Epoch 114/175\n",
      "199/199 - 0s - loss: 1.5385 - accuracy: 0.5281\n",
      "Epoch 115/175\n",
      "199/199 - 0s - loss: 1.5328 - accuracy: 0.5208\n",
      "Epoch 116/175\n",
      "199/199 - 0s - loss: 1.5356 - accuracy: 0.5224\n",
      "Epoch 117/175\n",
      "199/199 - 0s - loss: 1.5297 - accuracy: 0.5216\n",
      "Epoch 118/175\n",
      "199/199 - 0s - loss: 1.5260 - accuracy: 0.5256\n",
      "Epoch 119/175\n",
      "199/199 - 0s - loss: 1.5172 - accuracy: 0.5238\n",
      "Epoch 120/175\n",
      "199/199 - 0s - loss: 1.5157 - accuracy: 0.5229\n",
      "Epoch 121/175\n",
      "199/199 - 0s - loss: 1.5043 - accuracy: 0.5287\n",
      "Epoch 122/175\n",
      "199/199 - 0s - loss: 1.4999 - accuracy: 0.5350\n",
      "Epoch 123/175\n",
      "199/199 - 0s - loss: 1.4973 - accuracy: 0.5336\n",
      "Epoch 124/175\n",
      "199/199 - 0s - loss: 1.4885 - accuracy: 0.5322\n",
      "Epoch 125/175\n",
      "199/199 - 0s - loss: 1.4882 - accuracy: 0.5360\n",
      "Epoch 126/175\n",
      "199/199 - 0s - loss: 1.4830 - accuracy: 0.5344\n",
      "Epoch 127/175\n",
      "199/199 - 0s - loss: 1.4725 - accuracy: 0.5405\n",
      "Epoch 128/175\n",
      "199/199 - 0s - loss: 1.4655 - accuracy: 0.5418\n",
      "Epoch 129/175\n",
      "199/199 - 0s - loss: 1.4647 - accuracy: 0.5396\n",
      "Epoch 130/175\n",
      "199/199 - 0s - loss: 1.4647 - accuracy: 0.5379\n",
      "Epoch 131/175\n",
      "199/199 - 0s - loss: 1.4554 - accuracy: 0.5355\n",
      "Epoch 132/175\n",
      "199/199 - 0s - loss: 1.4522 - accuracy: 0.5404\n",
      "Epoch 133/175\n",
      "199/199 - 0s - loss: 1.4468 - accuracy: 0.5410\n",
      "Epoch 134/175\n",
      "199/199 - 0s - loss: 1.4400 - accuracy: 0.5440\n",
      "Epoch 135/175\n",
      "199/199 - 0s - loss: 1.4434 - accuracy: 0.5456\n",
      "Epoch 136/175\n",
      "199/199 - 0s - loss: 1.4366 - accuracy: 0.5462\n",
      "Epoch 137/175\n"
     ]
    },
    {
     "name": "stdout",
     "output_type": "stream",
     "text": [
      "199/199 - 0s - loss: 1.4253 - accuracy: 0.5442\n",
      "Epoch 138/175\n",
      "199/199 - 0s - loss: 1.4204 - accuracy: 0.5498\n",
      "Epoch 139/175\n",
      "199/199 - 0s - loss: 1.4223 - accuracy: 0.5487\n",
      "Epoch 140/175\n",
      "199/199 - 0s - loss: 1.4163 - accuracy: 0.5528\n",
      "Epoch 141/175\n",
      "199/199 - 0s - loss: 1.4144 - accuracy: 0.5517\n",
      "Epoch 142/175\n",
      "199/199 - 0s - loss: 1.4131 - accuracy: 0.5498\n",
      "Epoch 143/175\n",
      "199/199 - 0s - loss: 1.4077 - accuracy: 0.5511\n",
      "Epoch 144/175\n",
      "199/199 - 0s - loss: 1.4025 - accuracy: 0.5525\n",
      "Epoch 145/175\n",
      "199/199 - 0s - loss: 1.3941 - accuracy: 0.5565\n",
      "Epoch 146/175\n",
      "199/199 - 0s - loss: 1.3945 - accuracy: 0.5571\n",
      "Epoch 147/175\n",
      "199/199 - 0s - loss: 1.3941 - accuracy: 0.5502\n",
      "Epoch 148/175\n",
      "199/199 - 0s - loss: 1.3831 - accuracy: 0.5580\n",
      "Epoch 149/175\n",
      "199/199 - 0s - loss: 1.3780 - accuracy: 0.5568\n",
      "Epoch 150/175\n",
      "199/199 - 0s - loss: 1.3721 - accuracy: 0.5617\n",
      "Epoch 151/175\n",
      "199/199 - 0s - loss: 1.3738 - accuracy: 0.5579\n",
      "Epoch 152/175\n",
      "199/199 - 0s - loss: 1.3681 - accuracy: 0.5625\n",
      "Epoch 153/175\n",
      "199/199 - 0s - loss: 1.3666 - accuracy: 0.5595\n",
      "Epoch 154/175\n",
      "199/199 - 0s - loss: 1.3560 - accuracy: 0.5656\n",
      "Epoch 155/175\n",
      "199/199 - 0s - loss: 1.3620 - accuracy: 0.5606\n",
      "Epoch 156/175\n",
      "199/199 - 0s - loss: 1.3535 - accuracy: 0.5653\n",
      "Epoch 157/175\n",
      "199/199 - 0s - loss: 1.3446 - accuracy: 0.5662\n",
      "Epoch 158/175\n",
      "199/199 - 0s - loss: 1.3489 - accuracy: 0.5648\n",
      "Epoch 159/175\n",
      "199/199 - 0s - loss: 1.3459 - accuracy: 0.5680\n",
      "Epoch 160/175\n",
      "199/199 - 0s - loss: 1.3373 - accuracy: 0.5637\n",
      "Epoch 161/175\n",
      "199/199 - 0s - loss: 1.3324 - accuracy: 0.5722\n",
      "Epoch 162/175\n",
      "199/199 - 0s - loss: 1.3246 - accuracy: 0.5700\n",
      "Epoch 163/175\n",
      "199/199 - 0s - loss: 1.3274 - accuracy: 0.5760\n",
      "Epoch 164/175\n",
      "199/199 - 0s - loss: 1.3258 - accuracy: 0.5724\n",
      "Epoch 165/175\n",
      "199/199 - 0s - loss: 1.3126 - accuracy: 0.5768\n",
      "Epoch 166/175\n",
      "199/199 - 0s - loss: 1.3148 - accuracy: 0.5697\n",
      "Epoch 167/175\n",
      "199/199 - 0s - loss: 1.3135 - accuracy: 0.5763\n",
      "Epoch 168/175\n",
      "199/199 - 0s - loss: 1.3060 - accuracy: 0.5740\n",
      "Epoch 169/175\n",
      "199/199 - 0s - loss: 1.3072 - accuracy: 0.5762\n",
      "Epoch 170/175\n",
      "199/199 - 0s - loss: 1.3082 - accuracy: 0.5737\n",
      "Epoch 171/175\n",
      "199/199 - 0s - loss: 1.3006 - accuracy: 0.5781\n",
      "Epoch 172/175\n",
      "199/199 - 0s - loss: 1.2971 - accuracy: 0.5833\n",
      "Epoch 173/175\n",
      "199/199 - 0s - loss: 1.2935 - accuracy: 0.5790\n",
      "Epoch 174/175\n",
      "199/199 - 0s - loss: 1.2855 - accuracy: 0.5852\n",
      "Epoch 175/175\n",
      "199/199 - 0s - loss: 1.2880 - accuracy: 0.5804\n"
     ]
    },
    {
     "data": {
      "text/plain": [
       "<tensorflow.python.keras.callbacks.History at 0x28ddd308198>"
      ]
     },
     "execution_count": 20,
     "metadata": {},
     "output_type": "execute_result"
    }
   ],
   "source": [
    "model.fit(X_train_tensor, y_train_tensor, epochs=175, shuffle=True, verbose=2)"
   ]
  },
  {
   "cell_type": "code",
   "execution_count": 22,
   "metadata": {},
   "outputs": [
    {
     "data": {
      "text/plain": [
       "array([[4.35031857e-03, 1.16748489e-18, 1.90204173e-05, 1.45410656e-10,\n",
       "        9.18444867e-26, 4.47108363e-07, 1.31450332e-17, 1.93571182e-17,\n",
       "        1.76584781e-05, 1.77979300e-12, 2.77505251e-07, 1.97757717e-12,\n",
       "        8.25013994e-05, 2.43808155e-31, 7.96043006e-12, 5.47819070e-07,\n",
       "        7.02063407e-12, 1.93060791e-18, 4.20027333e-15, 1.23770815e-05,\n",
       "        7.68154857e-16, 5.73260915e-20, 1.81678783e-19, 9.60669033e-27,\n",
       "        6.01416250e-10, 9.08595213e-11, 2.25703556e-22, 4.66316791e-23,\n",
       "        2.07436213e-04, 1.12450087e-23, 3.59822371e-31, 4.73645645e-12,\n",
       "        1.43648613e-25, 7.32970474e-15, 4.31571476e-18, 2.86009381e-05,\n",
       "        7.33318318e-27, 5.87767820e-33, 2.89839809e-05, 1.69537814e-19,\n",
       "        1.13931154e-22, 2.64862507e-07, 3.76294139e-18, 2.31611204e-28,\n",
       "        2.56558298e-04, 1.85112192e-09, 5.91203925e-14, 9.83564714e-24,\n",
       "        3.61962345e-20, 5.69460863e-05, 3.98835084e-20, 3.68528211e-12,\n",
       "        4.53693593e-12, 8.50692737e-21, 2.55712983e-20, 2.16673257e-21,\n",
       "        1.19134339e-32, 7.97178365e-11, 1.07921124e-03, 1.50133400e-12,\n",
       "        5.31398753e-12, 6.93158433e-03, 3.65413740e-07, 1.88757064e-13,\n",
       "        1.83299808e-22, 3.32798348e-20, 2.72665861e-17, 4.39672277e-07,\n",
       "        4.23311839e-08, 1.78762148e-12, 3.74440930e-12, 1.08196329e-14,\n",
       "        3.11911087e-11, 1.77255433e-11, 2.10185619e-10, 1.54620240e-04,\n",
       "        1.05894833e-13, 2.72716407e-20, 3.65743512e-11, 3.47802796e-07,\n",
       "        9.29966312e-11, 4.22223020e-13, 2.56860222e-09, 1.97319895e-12,\n",
       "        1.07661791e-09, 1.69927237e-08, 1.57896313e-04, 1.09934340e-18,\n",
       "        1.41790046e-16, 2.46474273e-23, 2.74974923e-03, 6.38472725e-21,\n",
       "        1.11657761e-09, 5.11723679e-28, 5.91610882e-15, 9.90484332e-05,\n",
       "        5.31828732e-08, 2.26793828e-09, 1.77486282e-21, 2.42900775e-08,\n",
       "        9.32494641e-13, 7.61848118e-04, 1.20592257e-13, 6.14151749e-20,\n",
       "        6.58157902e-08, 3.80899224e-13, 4.22679208e-16, 4.22978758e-07,\n",
       "        8.22915791e-13, 7.45663514e-13, 9.04539707e-20, 5.49544913e-14,\n",
       "        2.39828611e-17, 4.82994894e-12, 1.17821497e-12, 1.74670040e-05,\n",
       "        2.29634253e-07, 1.57772338e-05, 1.23663482e-12, 4.81092918e-18,\n",
       "        4.00569252e-06, 1.89576653e-11, 5.58350142e-03, 5.21648610e-12,\n",
       "        1.62740611e-03, 3.51202628e-14, 8.36683685e-05, 2.48478027e-04,\n",
       "        2.52494285e-17, 5.91556841e-07, 1.84451665e-06, 1.05745423e-14,\n",
       "        9.37525381e-17, 5.99210612e-11, 6.01112424e-06, 1.92365675e-07,\n",
       "        9.03572980e-11, 2.45584771e-02, 1.67177678e-11, 2.24290323e-02,\n",
       "        5.53522835e-20, 6.94214948e-20, 2.27959172e-05, 3.32165769e-07,\n",
       "        1.11638432e-08, 1.41414821e-01, 8.41705178e-12, 1.89830551e-12,\n",
       "        5.25968709e-08, 4.20388333e-21, 1.89532368e-09, 1.53093386e-19,\n",
       "        7.29597758e-15, 1.00866516e-16, 4.14728676e-15, 3.18493257e-12,\n",
       "        4.34234870e-08, 7.53761409e-09, 3.33226479e-20, 8.03399993e-15,\n",
       "        1.83094744e-14, 1.97147929e-05, 2.78995227e-09, 1.12880960e-04,\n",
       "        1.41255187e-14, 3.47408062e-12, 7.82448232e-01, 3.80671304e-03,\n",
       "        3.02416017e-19, 8.93113618e-31, 4.57031711e-04, 7.05797270e-12,\n",
       "        3.84522567e-14, 4.92539863e-12, 2.96566970e-14, 1.01539590e-05,\n",
       "        1.74278615e-21, 6.28455282e-14, 3.00893760e-07, 1.04120597e-12,\n",
       "        3.41756368e-06, 2.65371557e-12, 1.68391161e-19, 1.29047083e-04,\n",
       "        7.40123240e-13, 1.12350618e-08, 3.19293009e-20, 7.16091276e-14,\n",
       "        9.58460386e-15]], dtype=float32)"
      ]
     },
     "execution_count": 22,
     "metadata": {},
     "output_type": "execute_result"
    }
   ],
   "source": [
    "\n",
    "predictions = model.predict(tf.expand_dims(enc.transform(['G','A','D']), axis=0))\n",
    "\n",
    "predictions"
   ]
  },
  {
   "cell_type": "code",
   "execution_count": 23,
   "metadata": {},
   "outputs": [
    {
     "data": {
      "text/plain": [
       "array([166, 145, 137, 139,  61], dtype=int64)"
      ]
     },
     "execution_count": 23,
     "metadata": {},
     "output_type": "execute_result"
    }
   ],
   "source": [
    "guesses = predictions[0].argsort()[::-1][0:5]\n",
    "guesses"
   ]
  },
  {
   "cell_type": "code",
   "execution_count": 24,
   "metadata": {},
   "outputs": [
    {
     "data": {
      "text/plain": [
       "[0.78244823, 0.14141482, 0.024558477, 0.022429032, 0.0069315843]"
      ]
     },
     "execution_count": 24,
     "metadata": {},
     "output_type": "execute_result"
    }
   ],
   "source": [
    "guess_score = predictions[0].sort()\n",
    "prediction_score = sorted(predictions[0],reverse=True)[0:5]\n",
    "prediction_score"
   ]
  },
  {
   "cell_type": "code",
   "execution_count": 25,
   "metadata": {},
   "outputs": [
    {
     "data": {
      "text/plain": [
       "array(['G', 'F#m', 'Em', 'Em7', 'C'], dtype='<U11')"
      ]
     },
     "execution_count": 25,
     "metadata": {},
     "output_type": "execute_result"
    }
   ],
   "source": [
    "prediction = enc.inverse_transform(guesses)\n",
    "prediction"
   ]
  },
  {
   "cell_type": "code",
   "execution_count": 26,
   "metadata": {},
   "outputs": [
    {
     "name": "stdout",
     "output_type": "stream",
     "text": [
      "G: 0.7824482321739197 certainty\n",
      "F#m: 0.1414148211479187 certainty\n",
      "Em: 0.024558477103710175 certainty\n",
      "Em7: 0.022429032251238823 certainty\n",
      "C: 0.00693158432841301 certainty\n"
     ]
    }
   ],
   "source": [
    "for i in range(0,len(prediction)):\n",
    "    print(f'{prediction[i]}: {prediction_score[i]} certainty')"
   ]
  },
  {
   "cell_type": "code",
   "execution_count": 27,
   "metadata": {},
   "outputs": [],
   "source": [
    "model_json = model.to_json()\n",
    "with open(\"model.json\", \"w\") as json_file:\n",
    "    json_file.write(model_json)"
   ]
  },
  {
   "cell_type": "code",
   "execution_count": 28,
   "metadata": {},
   "outputs": [
    {
     "name": "stdout",
     "output_type": "stream",
     "text": [
      "Saved model to disk\n"
     ]
    }
   ],
   "source": [
    "model.save_weights(\"model.h5\")\n",
    "print(\"Saved model to disk\")"
   ]
  },
  {
   "cell_type": "code",
   "execution_count": 29,
   "metadata": {},
   "outputs": [],
   "source": [
    "np.save('classes.npy', enc.classes_)"
   ]
  },
  {
   "cell_type": "code",
   "execution_count": null,
   "metadata": {},
   "outputs": [],
   "source": []
  }
 ],
 "metadata": {
  "kernelspec": {
   "display_name": "Python [conda env:PythonData] *",
   "language": "python",
   "name": "conda-env-PythonData-py"
  },
  "language_info": {
   "codemirror_mode": {
    "name": "ipython",
    "version": 3
   },
   "file_extension": ".py",
   "mimetype": "text/x-python",
   "name": "python",
   "nbconvert_exporter": "python",
   "pygments_lexer": "ipython3",
   "version": "3.7.1"
  }
 },
 "nbformat": 4,
 "nbformat_minor": 4
}
